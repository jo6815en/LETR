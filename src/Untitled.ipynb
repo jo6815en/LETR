{
 "cells": [
  {
   "cell_type": "code",
   "execution_count": null,
   "id": "2cf6e273",
   "metadata": {},
   "outputs": [],
   "source": [
    "# https://albumentations.ai/docs/getting_started/simultaneous_augmentation/\n",
    "\n",
    "import albumentations as A\n",
    "import cv2\n",
    "import matplotlib.pyplot as plt\n",
    "import numpy as np"
   ]
  },
  {
   "cell_type": "code",
   "execution_count": null,
   "id": "a6b702d2",
   "metadata": {},
   "outputs": [],
   "source": [
    "img_dir = '/Users/s0000960/data/forestseg_lth/forestseg_data/datasets/coco_style/train2017'\n",
    "a = !ls {img_dir}\n",
    "img_path = f'{img_dir}/{a[0]}'\n"
   ]
  },
  {
   "cell_type": "code",
   "execution_count": null,
   "id": "f47f9dd4",
   "metadata": {},
   "outputs": [],
   "source": [
    "image = cv2.imread(img_path)"
   ]
  },
  {
   "cell_type": "code",
   "execution_count": null,
   "id": "04ee437e",
   "metadata": {},
   "outputs": [],
   "source": [
    "transform = A.Compose([\n",
    "    A.augmentations.geometric.transforms.Perspective((0.1,0.1), p=1.0, keep_size=True, fit_output=True)\n",
    "], keypoint_params=A.KeypointParams(format='xy')\n",
    ")\n",
    "fake_points = np.array([[123, 140], [510, 240]])\n",
    "plt.imshow(image)\n",
    "plt.scatter(fake_points[:,0], fake_points[:,1])\n",
    "plt.show()\n",
    "\n",
    "out = transform(image=image, keypoints=fake_points)\n",
    "plt.imshow(out['image'])\n",
    "new_points = np.array(out['keypoints'])\n",
    "plt.scatter(new_points[:,0], new_points[:,1])"
   ]
  },
  {
   "cell_type": "code",
   "execution_count": null,
   "id": "9192ce69",
   "metadata": {},
   "outputs": [],
   "source": []
  },
  {
   "cell_type": "code",
   "execution_count": null,
   "id": "d89de4fe",
   "metadata": {},
   "outputs": [],
   "source": []
  }
 ],
 "metadata": {
  "kernelspec": {
   "display_name": "Python 3 (ipykernel)",
   "language": "python",
   "name": "python3"
  },
  "language_info": {
   "codemirror_mode": {
    "name": "ipython",
    "version": 3
   },
   "file_extension": ".py",
   "mimetype": "text/x-python",
   "name": "python",
   "nbconvert_exporter": "python",
   "pygments_lexer": "ipython3",
   "version": "3.8.13"
  }
 },
 "nbformat": 4,
 "nbformat_minor": 5
}
